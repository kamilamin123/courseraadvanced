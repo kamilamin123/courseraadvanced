{
    "nbformat_minor": 1, 
    "cells": [
        {
            "source": "# Assignment 3\n\nWelcome to Assignment 3. This will be even more fun. Now we will calculate statistical measures on the test data you have created.\n\nYOU ARE NOT ALLOWED TO USE ANY OTHER 3RD PARTY LIBRARIES LIKE PANDAS. PLEASE ONLY MODIFY CONTENT INSIDE THE FUNCTION SKELETONS\nPlease read why: https://www.coursera.org/learn/exploring-visualizing-iot-data/discussions/weeks/3/threads/skjCbNgeEeapeQ5W6suLkA\n. Just make sure you hit the play button on each cell from top to down. There are seven functions you have to implement. Please also make sure than on each change on a function you hit the play button again on the corresponding cell to make it available to the rest of this notebook.\nPlease also make sure to only implement the function bodies and DON'T add any additional code outside functions since this might confuse the autograder.\n\nSo the function below is used to make it easy for you to create a data frame from a cloudant data frame using the so called \"DataSource\" which is some sort of a plugin which allows ApacheSpark to use different data sources.\n", 
            "cell_type": "markdown", 
            "metadata": {}
        }, 
        {
            "execution_count": 1, 
            "cell_type": "code", 
            "metadata": {}, 
            "outputs": [], 
            "source": "#Please don't modify this function\ndef readDataFrameFromCloudant(database):\n    cloudantdata=spark.read.load(database, \"org.apache.bahir.cloudant\")\n\n    cloudantdata.createOrReplaceTempView(\"washing\")\n    spark.sql(\"SELECT * from washing\").show()\n    return cloudantdata"
        }, 
        {
            "source": "All functions can be implemented using DataFrames, ApacheSparkSQL or RDDs. We are only interested in the result. You are given the reference to the data frame in the \"df\" parameter and in case you want to use SQL just use the \"spark\" parameter which is a reference to the global SparkSession object. Finally if you want to use RDDs just use \"df.rdd\" for obtaining a reference to the underlying RDD object. \n\nLet's start with the first function. Please calculate the minimal temperature for the test data set you have created. We've provided a little skeleton for you in case you want to use SQL. You can use this skeleton for all subsequent functions. Everything can be implemented using SQL only if you like.", 
            "cell_type": "markdown", 
            "metadata": {}
        }, 
        {
            "execution_count": 2, 
            "cell_type": "code", 
            "metadata": {}, 
            "outputs": [], 
            "source": "def minTemperature(df,spark):\n    return spark.sql(\"SELECT temperature as mintemp from washing where temperature  IS NOT NULL order by 1 limit 1\").first().mintemp"
        }, 
        {
            "source": "Please now do the same for the mean of the temperature", 
            "cell_type": "markdown", 
            "metadata": {}
        }, 
        {
            "execution_count": 3, 
            "cell_type": "code", 
            "metadata": {}, 
            "outputs": [], 
            "source": "def meanTemperature(df,spark):\n    return spark.sql(\"SELECT AVG(temperature) as average  from washing  \").first().average"
        }, 
        {
            "source": "Please now do the same for the maximum of the temperature", 
            "cell_type": "markdown", 
            "metadata": {}
        }, 
        {
            "execution_count": 4, 
            "cell_type": "code", 
            "metadata": {}, 
            "outputs": [], 
            "source": "def maxTemperature(df,spark):\n    return spark.sql(\"SELECT temperature as mintemp from washing where temperature  IS NOT NULL order by 1 desc\").first().mintemp"
        }, 
        {
            "source": "Please now do the same for the standard deviation of the temperature", 
            "cell_type": "markdown", 
            "metadata": {}
        }, 
        {
            "execution_count": 5, 
            "cell_type": "code", 
            "metadata": {}, 
            "outputs": [], 
            "source": "def sdTemperature(df,spark):\n    return spark.sql(\"SELECT STDDEV(temperature) as average  from washing  \").first().average"
        }, 
        {
            "source": "Please now do the same for the skew of the temperature. Since the SQL statement for this is a bit more complicated we've provided a skeleton for you. You have to insert custom code at four position in order to make the function work. Alternatively you can also remove everything and implement if on your own. Note that we are making use of two previously defined functions, so please make sure they are correct. Also note that we are making use of python's string formatting capabilitis where the results of the two function calls to \"meanTemperature\" and \"sdTemperature\" are inserted at the \"%s\" symbols in the SQL string.", 
            "cell_type": "markdown", 
            "metadata": {}
        }, 
        {
            "execution_count": 6, 
            "cell_type": "code", 
            "metadata": {}, 
            "outputs": [], 
            "source": "def skewTemperature(df,spark):    \n    n=spark.sql(\"SELECT count(temperature) as s  from washing  \").first().s\n    return spark.sql(\"\"\"\nSELECT \n    (\n        1/(%s)\n    ) *\n    SUM (\n        POWER(temperature-%s,3)/POWER(%s,3)\n    )\n\nas zstd from washing\n                    \"\"\" %(n,meanTemperature(df,spark),sdTemperature(df,spark))).first().zstd"
        }, 
        {
            "source": "Kurtosis is the 4th statistical moment, so if you are smart you can make use of the code for skew which is the 3rd statistical moment. Actually only two things are different.", 
            "cell_type": "markdown", 
            "metadata": {}
        }, 
        {
            "execution_count": 7, 
            "cell_type": "code", 
            "metadata": {}, 
            "outputs": [], 
            "source": "def kurtosisTemperature(df,spark):    \n    n=spark.sql(\"SELECT count(temperature) as s  from washing  \").first().s\n    return spark.sql(\"\"\"\nSELECT \n    (\n        1/(%s)\n    ) *\n    SUM (\n        POWER(temperature-%s,4)/POWER(%s,4)\n    )\n\nas zstd from washing\n                    \"\"\" %(n,meanTemperature(df,spark),sdTemperature(df,spark))).first().zstd"
        }, 
        {
            "source": "Just a hint. This can be solved easily using SQL as well, but as shown in the lecture also using RDDs.", 
            "cell_type": "markdown", 
            "metadata": {}
        }, 
        {
            "execution_count": 8, 
            "cell_type": "code", 
            "metadata": {}, 
            "outputs": [], 
            "source": "from pyspark.mllib.stat import Statistics\ndef correlationTemperatureHardness(df,spark):\n    return Statistics.corr(sc.parallelize(spark.sql(\"SELECT temperature,hardness as x FROM washing where temperature IS NOT NULL and hardness IS NOT NULL\").collect()).map(lambda row: [row[0],row[1]]))"
        }, 
        {
            "source": "### PLEASE DON'T REMOVE THIS BLOCK - THE FOLLOWING CODE IS NOT GRADED\n#axx\n### PLEASE DON'T REMOVE THIS BLOCK - THE FOLLOWING CODE IS NOT GRADED", 
            "cell_type": "markdown", 
            "metadata": {}
        }, 
        {
            "source": "Now it is time to connect to the cloudant database. Please have a look at the Video \"Overview of end-to-end scenario\" of Week 2 starting from 6:40 in order to learn how to obtain the credentials for the database. Please paste this credentials as strings into the below code\n\n### TODO Please provide your Cloudant credentials here", 
            "cell_type": "markdown", 
            "metadata": {}
        }, 
        {
            "execution_count": 9, 
            "cell_type": "code", 
            "metadata": {}, 
            "outputs": [], 
            "source": "hostname = \"d9ce7ec2-6e11-49eb-98cf-ebbb93eaea72-bluemix.cloudant.com\"\nuser = \"d9ce7ec2-6e11-49eb-98cf-ebbb93eaea72-bluemix\"\npw = \"4980828b2d3aa7f2fbab39d158c1902580926a9d9f8947cc8d1951c79151aa55\"\ndatabase = \"washing\" #as long as you didn't change this in the NodeRED flow the database name stays the same"
        }, 
        {
            "execution_count": 10, 
            "cell_type": "code", 
            "metadata": {}, 
            "outputs": [
                {
                    "output_type": "stream", 
                    "name": "stdout", 
                    "text": "+--------------------+--------------------+-----+--------+----------+---------+--------+-----+-----------+-------------+-------+\n|                 _id|                _rev|count|flowrate|fluidlevel|frequency|hardness|speed|temperature|           ts|voltage|\n+--------------------+--------------------+-----+--------+----------+---------+--------+-----+-----------+-------------+-------+\n|0cacb9bbe89157ca9...|1-5e9d57927c4a54c...|    1|      11|acceptable|     null|      73| null|         92|1540071828400|   null|\n|0cacb9bbe89157ca9...|1-9940fa7baf9b4d9...|    8|      11|acceptable|     null|      77| null|         92|1540071835736|   null|\n|0cacb9bbe89157ca9...|1-84a327f5ffd5098...|   11|      11|acceptable|     null|      70| null|         83|1540071838743|   null|\n|0cacb9bbe89157ca9...|1-527212aae71495c...|   14|      11|acceptable|     null|      70| null|         82|1540071841876|   null|\n|21aae38c942c13765...|1-b31ff9fb152eeda...|    3|      11|acceptable|     null|      72| null|         96|1540071830612|   null|\n|21aae38c942c13765...|1-e44c321c247a7d5...|   10|      11|acceptable|     null|      77| null|         91|1540071837867|   null|\n|21aae38c942c13765...|1-ed41578024e882e...|    3|    null|      null|     null|    null| 1071|       null|1540071842446|   null|\n|2479d75407f9d80d6...|1-3b91ceca435ecce...|    4|      11|acceptable|     null|      72| null|         83|1540071831664|   null|\n|2479d75407f9d80d6...|1-d356d6ac68b11f7...|    2|    null|      null|       67|    null| null|       null|1540071833623|    225|\n|2479d75407f9d80d6...|1-59259c4003216af...|    7|      11|acceptable|     null|      71| null|         84|1540071834731|   null|\n|2479d75407f9d80d6...|1-d0f4b562438d17b...|    9|      11|acceptable|     null|      72| null|         90|1540071836739|   null|\n|6233e258e5504cfbd...|1-a6b9d75d8652f5e...|    4|      11|acceptable|     null|      70| null|         80|1540071831614|   null|\n|6233e258e5504cfbd...|1-b9fd97963b89ac9...|    7|      11|acceptable|     null|      80| null|         82|1540071834862|   null|\n|6233e258e5504cfbd...|1-771e6a99e41cb20...|    9|      11|acceptable|     null|      78| null|         99|1540071836865|   null|\n|6233e258e5504cfbd...|1-ff78ccaddab8782...|    5|    null|      null|       65|    null| null|       null|1540071842717|    230|\n|657bbf8c69b07b118...|1-e924377becb8454...|    6|      11|acceptable|     null|      74| null|         87|1540071833726|   null|\n|657bbf8c69b07b118...|1-a029258493c25d4...|   14|      11|acceptable|     null|      71| null|         81|1540071841762|   null|\n|99398ad5a65796dc7...|1-e3c9e082e4d16e5...|    2|      11|acceptable|     null|      70| null|         97|1540071829495|   null|\n|99398ad5a65796dc7...|1-54e5c9a0b1df2d0...|    3|      11|acceptable|     null|      71| null|         83|1540071830612|   null|\n|99398ad5a65796dc7...|1-c34ddb73e1511df...|    5|      11|acceptable|     null|      73| null|         95|1540071832726|   null|\n+--------------------+--------------------+-----+--------+----------+---------+--------+-----+-----------+-------------+-------+\nonly showing top 20 rows\n\n"
                }
            ], 
            "source": "spark = SparkSession\\\n    .builder\\\n    .appName(\"Cloudant Spark SQL Example in Python using temp tables\")\\\n    .config(\"cloudant.host\",hostname)\\\n    .config(\"cloudant.username\", user)\\\n    .config(\"cloudant.password\",pw)\\\n    .getOrCreate()\ncloudantdata=readDataFrameFromCloudant(database)"
        }, 
        {
            "execution_count": 11, 
            "cell_type": "code", 
            "metadata": {}, 
            "outputs": [
                {
                    "execution_count": 11, 
                    "metadata": {}, 
                    "data": {
                        "text/plain": "80"
                    }, 
                    "output_type": "execute_result"
                }
            ], 
            "source": "minTemperature(cloudantdata,spark)"
        }, 
        {
            "execution_count": 12, 
            "cell_type": "code", 
            "metadata": {}, 
            "outputs": [
                {
                    "execution_count": 12, 
                    "metadata": {}, 
                    "data": {
                        "text/plain": "88.42857142857143"
                    }, 
                    "output_type": "execute_result"
                }
            ], 
            "source": "meanTemperature(cloudantdata,spark)"
        }, 
        {
            "execution_count": 13, 
            "cell_type": "code", 
            "metadata": {}, 
            "outputs": [
                {
                    "execution_count": 13, 
                    "metadata": {}, 
                    "data": {
                        "text/plain": "99"
                    }, 
                    "output_type": "execute_result"
                }
            ], 
            "source": "maxTemperature(cloudantdata,spark)"
        }, 
        {
            "execution_count": 14, 
            "cell_type": "code", 
            "metadata": {}, 
            "outputs": [
                {
                    "execution_count": 14, 
                    "metadata": {}, 
                    "data": {
                        "text/plain": "6.443075935702412"
                    }, 
                    "output_type": "execute_result"
                }
            ], 
            "source": "sdTemperature(cloudantdata,spark)"
        }, 
        {
            "execution_count": 15, 
            "cell_type": "code", 
            "metadata": {}, 
            "outputs": [
                {
                    "execution_count": 15, 
                    "metadata": {}, 
                    "data": {
                        "text/plain": "0.2334941524635015"
                    }, 
                    "output_type": "execute_result"
                }
            ], 
            "source": "skewTemperature(cloudantdata,spark)"
        }, 
        {
            "execution_count": 16, 
            "cell_type": "code", 
            "metadata": {}, 
            "outputs": [
                {
                    "execution_count": 16, 
                    "metadata": {}, 
                    "data": {
                        "text/plain": "1.529664965097152"
                    }, 
                    "output_type": "execute_result"
                }
            ], 
            "source": "kurtosisTemperature(cloudantdata,spark)"
        }, 
        {
            "execution_count": 17, 
            "cell_type": "code", 
            "metadata": {}, 
            "outputs": [
                {
                    "execution_count": 17, 
                    "metadata": {}, 
                    "data": {
                        "text/plain": "array([[ 1.        ,  0.32179104],\n       [ 0.32179104,  1.        ]])"
                    }, 
                    "output_type": "execute_result"
                }
            ], 
            "source": "correlationTemperatureHardness(cloudantdata,spark)"
        }, 
        {
            "source": "Congratulations, you are done, please download this notebook as python file using the export function and submit is to the gader using the filename \"assignment3.1.py\"", 
            "cell_type": "markdown", 
            "metadata": {}
        }
    ], 
    "metadata": {
        "kernelspec": {
            "display_name": "Python 3.5 with Spark 2.1", 
            "name": "python3-spark21", 
            "language": "python"
        }, 
        "language_info": {
            "mimetype": "text/x-python", 
            "nbconvert_exporter": "python", 
            "version": "3.5.4", 
            "name": "python", 
            "file_extension": ".py", 
            "pygments_lexer": "ipython3", 
            "codemirror_mode": {
                "version": 3, 
                "name": "ipython"
            }
        }
    }, 
    "nbformat": 4
}